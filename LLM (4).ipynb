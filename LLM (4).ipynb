{
  "nbformat": 4,
  "nbformat_minor": 0,
  "metadata": {
    "colab": {
      "provenance": [],
      "machine_shape": "hm",
      "gpuType": "T4"
    },
    "kernelspec": {
      "name": "python3",
      "display_name": "Python 3"
    },
    "language_info": {
      "name": "python"
    },
    "accelerator": "GPU"
  },
  "cells": [
    {
      "cell_type": "code",
      "execution_count": null,
      "metadata": {
        "colab": {
          "base_uri": "https://localhost:8080/"
        },
        "id": "uNnoz2K2A7Xw",
        "outputId": "195d5034-a3d6-4351-91c0-efd149328703",
        "collapsed": true
      },
      "outputs": [
        {
          "output_type": "stream",
          "name": "stdout",
          "text": [
            "Requirement already satisfied: openai in /usr/local/lib/python3.11/dist-packages (1.75.0)\n",
            "Requirement already satisfied: anyio<5,>=3.5.0 in /usr/local/lib/python3.11/dist-packages (from openai) (4.9.0)\n",
            "Requirement already satisfied: distro<2,>=1.7.0 in /usr/local/lib/python3.11/dist-packages (from openai) (1.9.0)\n",
            "Requirement already satisfied: httpx<1,>=0.23.0 in /usr/local/lib/python3.11/dist-packages (from openai) (0.28.1)\n",
            "Requirement already satisfied: jiter<1,>=0.4.0 in /usr/local/lib/python3.11/dist-packages (from openai) (0.9.0)\n",
            "Requirement already satisfied: pydantic<3,>=1.9.0 in /usr/local/lib/python3.11/dist-packages (from openai) (2.11.3)\n",
            "Requirement already satisfied: sniffio in /usr/local/lib/python3.11/dist-packages (from openai) (1.3.1)\n",
            "Requirement already satisfied: tqdm>4 in /usr/local/lib/python3.11/dist-packages (from openai) (4.67.1)\n",
            "Requirement already satisfied: typing-extensions<5,>=4.11 in /usr/local/lib/python3.11/dist-packages (from openai) (4.13.2)\n",
            "Requirement already satisfied: idna>=2.8 in /usr/local/lib/python3.11/dist-packages (from anyio<5,>=3.5.0->openai) (3.10)\n",
            "Requirement already satisfied: certifi in /usr/local/lib/python3.11/dist-packages (from httpx<1,>=0.23.0->openai) (2025.1.31)\n",
            "Requirement already satisfied: httpcore==1.* in /usr/local/lib/python3.11/dist-packages (from httpx<1,>=0.23.0->openai) (1.0.8)\n",
            "Requirement already satisfied: h11<0.15,>=0.13 in /usr/local/lib/python3.11/dist-packages (from httpcore==1.*->httpx<1,>=0.23.0->openai) (0.14.0)\n",
            "Requirement already satisfied: annotated-types>=0.6.0 in /usr/local/lib/python3.11/dist-packages (from pydantic<3,>=1.9.0->openai) (0.7.0)\n",
            "Requirement already satisfied: pydantic-core==2.33.1 in /usr/local/lib/python3.11/dist-packages (from pydantic<3,>=1.9.0->openai) (2.33.1)\n",
            "Requirement already satisfied: typing-inspection>=0.4.0 in /usr/local/lib/python3.11/dist-packages (from pydantic<3,>=1.9.0->openai) (0.4.0)\n"
          ]
        }
      ],
      "source": [
        "!pip install openai --upgrade"
      ]
    },
    {
      "cell_type": "code",
      "source": [
        "import pandas as pd\n",
        "import numpy as np\n",
        "import json\n",
        "import time\n",
        "from tqdm import tqdm\n",
        "from sklearn.model_selection import train_test_split\n",
        "from sklearn.metrics import roc_auc_score, average_precision_score, RocCurveDisplay\n",
        "from torch.utils.data import Dataset, DataLoader\n",
        "import openai\n",
        "\n",
        "from google.colab import drive\n",
        "drive.mount('/content/drive')"
      ],
      "metadata": {
        "colab": {
          "base_uri": "https://localhost:8080/"
        },
        "id": "pbWbYwp5BG4f",
        "outputId": "adbb7c50-bae1-4c82-f6e2-46cf667100f2"
      },
      "execution_count": null,
      "outputs": [
        {
          "output_type": "stream",
          "name": "stdout",
          "text": [
            "Mounted at /content/drive\n"
          ]
        }
      ]
    },
    {
      "cell_type": "code",
      "source": [
        "openai.api_key = 'deleted'"
      ],
      "metadata": {
        "id": "ZzWt3izwBNaN"
      },
      "execution_count": null,
      "outputs": []
    },
    {
      "cell_type": "code",
      "source": [
        "# Load discharge notes\n",
        "discharge_notes = pd.read_csv(\n",
        "    \"/content/drive/My Drive/mimic-iii-clinical-database-1.4/NOTEEVENTS.csv.gz\",\n",
        "    compression='gzip',\n",
        "    low_memory=False\n",
        ")\n",
        "discharge_notes = discharge_notes[discharge_notes[\"CATEGORY\"] == \"Discharge summary\"]\n",
        "\n",
        "# Load diagnoses and ICD descriptions\n",
        "diagnoses = pd.read_csv(\n",
        "    \"/content/drive/My Drive/mimic-iii-clinical-database-1.4/DIAGNOSES_ICD.csv.gz\",\n",
        "    compression='gzip',\n",
        "    low_memory=False\n",
        ")\n",
        "d_icd = pd.read_csv(\n",
        "    \"/content/drive/My Drive/mimic-iii-clinical-database-1.4/D_ICD_DIAGNOSES.csv.gz\",\n",
        "    compression='gzip',\n",
        "    low_memory=False\n",
        ")"
      ],
      "metadata": {
        "id": "aYL5OPCWCsjE"
      },
      "execution_count": null,
      "outputs": []
    },
    {
      "cell_type": "code",
      "source": [
        "# Merge diagnoses with descriptions\n",
        "diagnoses = diagnoses.merge(d_icd, on=\"ICD9_CODE\", how=\"left\")\n",
        "\n",
        "# Join discharge notes with diagnoses on HADM_ID\n",
        "joined = discharge_notes.merge(diagnoses, on=\"HADM_ID\", how=\"inner\")\n",
        "\n",
        "# Group multiple diagnoses per note\n",
        "grouped = (\n",
        "    joined.groupby([\"HADM_ID\", \"TEXT\"])\n",
        "    .agg({\"SHORT_TITLE\": lambda x: list(set(x.dropna()))})\n",
        "    .reset_index()\n",
        ")\n",
        "\n",
        "# Optional preview\n",
        "grouped.head()"
      ],
      "metadata": {
        "colab": {
          "base_uri": "https://localhost:8080/",
          "height": 6695
        },
        "collapsed": true,
        "id": "-i4NTpub622s",
        "outputId": "dcc6db3b-fad1-4bd5-8ac8-4d5b3c2e59a6"
      },
      "execution_count": null,
      "outputs": [
        {
          "output_type": "execute_result",
          "data": {
            "text/plain": [
              "    HADM_ID                                               TEXT  \\\n",
              "0  100001.0  Admission Date:  [**2117-9-11**]              ...   \n",
              "1  100003.0  Admission Date:  [**2150-4-17**]              ...   \n",
              "2  100006.0  Admission Date:  [**2108-4-6**]       Discharg...   \n",
              "3  100006.0  Name:  [**Known lastname 470**], [**Known firs...   \n",
              "4  100007.0  Admission Date:  [**2145-3-31**]              ...   \n",
              "\n",
              "                                         SHORT_TITLE  \n",
              "0  [Chr kidney dis stage III, DMI ketoacd uncontr...  \n",
              "1  [Cirrhosis of liver NOS, Edema, Ac posthemorrh...  \n",
              "2  [Hyposmolality, Chronic obst asthma NOS, Adjus...  \n",
              "3  [Hyposmolality, Chronic obst asthma NOS, Adjus...  \n",
              "4  [Hypertension NOS, Pneumonia, organism NOS, Ac...  "
            ],
            "text/html": [
              "\n",
              "  <div id=\"df-f5eee167-5139-4907-ba55-54b6cce66a20\" class=\"colab-df-container\">\n",
              "    <div>\n",
              "<style scoped>\n",
              "    .dataframe tbody tr th:only-of-type {\n",
              "        vertical-align: middle;\n",
              "    }\n",
              "\n",
              "    .dataframe tbody tr th {\n",
              "        vertical-align: top;\n",
              "    }\n",
              "\n",
              "    .dataframe thead th {\n",
              "        text-align: right;\n",
              "    }\n",
              "</style>\n",
              "<table border=\"1\" class=\"dataframe\">\n",
              "  <thead>\n",
              "    <tr style=\"text-align: right;\">\n",
              "      <th></th>\n",
              "      <th>HADM_ID</th>\n",
              "      <th>TEXT</th>\n",
              "      <th>SHORT_TITLE</th>\n",
              "    </tr>\n",
              "  </thead>\n",
              "  <tbody>\n",
              "    <tr>\n",
              "      <th>0</th>\n",
              "      <td>100001.0</td>\n",
              "      <td>Admission Date:  [**2117-9-11**]              ...</td>\n",
              "      <td>[Chr kidney dis stage III, DMI ketoacd uncontr...</td>\n",
              "    </tr>\n",
              "    <tr>\n",
              "      <th>1</th>\n",
              "      <td>100003.0</td>\n",
              "      <td>Admission Date:  [**2150-4-17**]              ...</td>\n",
              "      <td>[Cirrhosis of liver NOS, Edema, Ac posthemorrh...</td>\n",
              "    </tr>\n",
              "    <tr>\n",
              "      <th>2</th>\n",
              "      <td>100006.0</td>\n",
              "      <td>Admission Date:  [**2108-4-6**]       Discharg...</td>\n",
              "      <td>[Hyposmolality, Chronic obst asthma NOS, Adjus...</td>\n",
              "    </tr>\n",
              "    <tr>\n",
              "      <th>3</th>\n",
              "      <td>100006.0</td>\n",
              "      <td>Name:  [**Known lastname 470**], [**Known firs...</td>\n",
              "      <td>[Hyposmolality, Chronic obst asthma NOS, Adjus...</td>\n",
              "    </tr>\n",
              "    <tr>\n",
              "      <th>4</th>\n",
              "      <td>100007.0</td>\n",
              "      <td>Admission Date:  [**2145-3-31**]              ...</td>\n",
              "      <td>[Hypertension NOS, Pneumonia, organism NOS, Ac...</td>\n",
              "    </tr>\n",
              "  </tbody>\n",
              "</table>\n",
              "</div>\n",
              "    <div class=\"colab-df-buttons\">\n",
              "\n",
              "  <div class=\"colab-df-container\">\n",
              "    <button class=\"colab-df-convert\" onclick=\"convertToInteractive('df-f5eee167-5139-4907-ba55-54b6cce66a20')\"\n",
              "            title=\"Convert this dataframe to an interactive table.\"\n",
              "            style=\"display:none;\">\n",
              "\n",
              "  <svg xmlns=\"http://www.w3.org/2000/svg\" height=\"24px\" viewBox=\"0 -960 960 960\">\n",
              "    <path d=\"M120-120v-720h720v720H120Zm60-500h600v-160H180v160Zm220 220h160v-160H400v160Zm0 220h160v-160H400v160ZM180-400h160v-160H180v160Zm440 0h160v-160H620v160ZM180-180h160v-160H180v160Zm440 0h160v-160H620v160Z\"/>\n",
              "  </svg>\n",
              "    </button>\n",
              "\n",
              "  <style>\n",
              "    .colab-df-container {\n",
              "      display:flex;\n",
              "      gap: 12px;\n",
              "    }\n",
              "\n",
              "    .colab-df-convert {\n",
              "      background-color: #E8F0FE;\n",
              "      border: none;\n",
              "      border-radius: 50%;\n",
              "      cursor: pointer;\n",
              "      display: none;\n",
              "      fill: #1967D2;\n",
              "      height: 32px;\n",
              "      padding: 0 0 0 0;\n",
              "      width: 32px;\n",
              "    }\n",
              "\n",
              "    .colab-df-convert:hover {\n",
              "      background-color: #E2EBFA;\n",
              "      box-shadow: 0px 1px 2px rgba(60, 64, 67, 0.3), 0px 1px 3px 1px rgba(60, 64, 67, 0.15);\n",
              "      fill: #174EA6;\n",
              "    }\n",
              "\n",
              "    .colab-df-buttons div {\n",
              "      margin-bottom: 4px;\n",
              "    }\n",
              "\n",
              "    [theme=dark] .colab-df-convert {\n",
              "      background-color: #3B4455;\n",
              "      fill: #D2E3FC;\n",
              "    }\n",
              "\n",
              "    [theme=dark] .colab-df-convert:hover {\n",
              "      background-color: #434B5C;\n",
              "      box-shadow: 0px 1px 3px 1px rgba(0, 0, 0, 0.15);\n",
              "      filter: drop-shadow(0px 1px 2px rgba(0, 0, 0, 0.3));\n",
              "      fill: #FFFFFF;\n",
              "    }\n",
              "  </style>\n",
              "\n",
              "    <script>\n",
              "      const buttonEl =\n",
              "        document.querySelector('#df-f5eee167-5139-4907-ba55-54b6cce66a20 button.colab-df-convert');\n",
              "      buttonEl.style.display =\n",
              "        google.colab.kernel.accessAllowed ? 'block' : 'none';\n",
              "\n",
              "      async function convertToInteractive(key) {\n",
              "        const element = document.querySelector('#df-f5eee167-5139-4907-ba55-54b6cce66a20');\n",
              "        const dataTable =\n",
              "          await google.colab.kernel.invokeFunction('convertToInteractive',\n",
              "                                                    [key], {});\n",
              "        if (!dataTable) return;\n",
              "\n",
              "        const docLinkHtml = 'Like what you see? Visit the ' +\n",
              "          '<a target=\"_blank\" href=https://colab.research.google.com/notebooks/data_table.ipynb>data table notebook</a>'\n",
              "          + ' to learn more about interactive tables.';\n",
              "        element.innerHTML = '';\n",
              "        dataTable['output_type'] = 'display_data';\n",
              "        await google.colab.output.renderOutput(dataTable, element);\n",
              "        const docLink = document.createElement('div');\n",
              "        docLink.innerHTML = docLinkHtml;\n",
              "        element.appendChild(docLink);\n",
              "      }\n",
              "    </script>\n",
              "  </div>\n",
              "\n",
              "\n",
              "<div id=\"df-6ef76cd9-b711-4740-9a0e-ce7e637286e7\">\n",
              "  <button class=\"colab-df-quickchart\" onclick=\"quickchart('df-6ef76cd9-b711-4740-9a0e-ce7e637286e7')\"\n",
              "            title=\"Suggest charts\"\n",
              "            style=\"display:none;\">\n",
              "\n",
              "<svg xmlns=\"http://www.w3.org/2000/svg\" height=\"24px\"viewBox=\"0 0 24 24\"\n",
              "     width=\"24px\">\n",
              "    <g>\n",
              "        <path d=\"M19 3H5c-1.1 0-2 .9-2 2v14c0 1.1.9 2 2 2h14c1.1 0 2-.9 2-2V5c0-1.1-.9-2-2-2zM9 17H7v-7h2v7zm4 0h-2V7h2v10zm4 0h-2v-4h2v4z\"/>\n",
              "    </g>\n",
              "</svg>\n",
              "  </button>\n",
              "\n",
              "<style>\n",
              "  .colab-df-quickchart {\n",
              "      --bg-color: #E8F0FE;\n",
              "      --fill-color: #1967D2;\n",
              "      --hover-bg-color: #E2EBFA;\n",
              "      --hover-fill-color: #174EA6;\n",
              "      --disabled-fill-color: #AAA;\n",
              "      --disabled-bg-color: #DDD;\n",
              "  }\n",
              "\n",
              "  [theme=dark] .colab-df-quickchart {\n",
              "      --bg-color: #3B4455;\n",
              "      --fill-color: #D2E3FC;\n",
              "      --hover-bg-color: #434B5C;\n",
              "      --hover-fill-color: #FFFFFF;\n",
              "      --disabled-bg-color: #3B4455;\n",
              "      --disabled-fill-color: #666;\n",
              "  }\n",
              "\n",
              "  .colab-df-quickchart {\n",
              "    background-color: var(--bg-color);\n",
              "    border: none;\n",
              "    border-radius: 50%;\n",
              "    cursor: pointer;\n",
              "    display: none;\n",
              "    fill: var(--fill-color);\n",
              "    height: 32px;\n",
              "    padding: 0;\n",
              "    width: 32px;\n",
              "  }\n",
              "\n",
              "  .colab-df-quickchart:hover {\n",
              "    background-color: var(--hover-bg-color);\n",
              "    box-shadow: 0 1px 2px rgba(60, 64, 67, 0.3), 0 1px 3px 1px rgba(60, 64, 67, 0.15);\n",
              "    fill: var(--button-hover-fill-color);\n",
              "  }\n",
              "\n",
              "  .colab-df-quickchart-complete:disabled,\n",
              "  .colab-df-quickchart-complete:disabled:hover {\n",
              "    background-color: var(--disabled-bg-color);\n",
              "    fill: var(--disabled-fill-color);\n",
              "    box-shadow: none;\n",
              "  }\n",
              "\n",
              "  .colab-df-spinner {\n",
              "    border: 2px solid var(--fill-color);\n",
              "    border-color: transparent;\n",
              "    border-bottom-color: var(--fill-color);\n",
              "    animation:\n",
              "      spin 1s steps(1) infinite;\n",
              "  }\n",
              "\n",
              "  @keyframes spin {\n",
              "    0% {\n",
              "      border-color: transparent;\n",
              "      border-bottom-color: var(--fill-color);\n",
              "      border-left-color: var(--fill-color);\n",
              "    }\n",
              "    20% {\n",
              "      border-color: transparent;\n",
              "      border-left-color: var(--fill-color);\n",
              "      border-top-color: var(--fill-color);\n",
              "    }\n",
              "    30% {\n",
              "      border-color: transparent;\n",
              "      border-left-color: var(--fill-color);\n",
              "      border-top-color: var(--fill-color);\n",
              "      border-right-color: var(--fill-color);\n",
              "    }\n",
              "    40% {\n",
              "      border-color: transparent;\n",
              "      border-right-color: var(--fill-color);\n",
              "      border-top-color: var(--fill-color);\n",
              "    }\n",
              "    60% {\n",
              "      border-color: transparent;\n",
              "      border-right-color: var(--fill-color);\n",
              "    }\n",
              "    80% {\n",
              "      border-color: transparent;\n",
              "      border-right-color: var(--fill-color);\n",
              "      border-bottom-color: var(--fill-color);\n",
              "    }\n",
              "    90% {\n",
              "      border-color: transparent;\n",
              "      border-bottom-color: var(--fill-color);\n",
              "    }\n",
              "  }\n",
              "</style>\n",
              "\n",
              "  <script>\n",
              "    async function quickchart(key) {\n",
              "      const quickchartButtonEl =\n",
              "        document.querySelector('#' + key + ' button');\n",
              "      quickchartButtonEl.disabled = true;  // To prevent multiple clicks.\n",
              "      quickchartButtonEl.classList.add('colab-df-spinner');\n",
              "      try {\n",
              "        const charts = await google.colab.kernel.invokeFunction(\n",
              "            'suggestCharts', [key], {});\n",
              "      } catch (error) {\n",
              "        console.error('Error during call to suggestCharts:', error);\n",
              "      }\n",
              "      quickchartButtonEl.classList.remove('colab-df-spinner');\n",
              "      quickchartButtonEl.classList.add('colab-df-quickchart-complete');\n",
              "    }\n",
              "    (() => {\n",
              "      let quickchartButtonEl =\n",
              "        document.querySelector('#df-6ef76cd9-b711-4740-9a0e-ce7e637286e7 button');\n",
              "      quickchartButtonEl.style.display =\n",
              "        google.colab.kernel.accessAllowed ? 'block' : 'none';\n",
              "    })();\n",
              "  </script>\n",
              "</div>\n",
              "\n",
              "    </div>\n",
              "  </div>\n"
            ],
            "application/vnd.google.colaboratory.intrinsic+json": {
              "type": "dataframe",
              "variable_name": "grouped",
              "summary": "{\n  \"name\": \"grouped\",\n  \"rows\": 59568,\n  \"fields\": [\n    {\n      \"column\": \"HADM_ID\",\n      \"properties\": {\n        \"dtype\": \"number\",\n        \"std\": 28918.36681847651,\n        \"min\": 100001.0,\n        \"max\": 199999.0,\n        \"num_unique_values\": 52726,\n        \"samples\": [\n          159875.0,\n          144848.0,\n          196176.0\n        ],\n        \"semantic_type\": \"\",\n        \"description\": \"\"\n      }\n    },\n    {\n      \"column\": \"TEXT\",\n      \"properties\": {\n        \"dtype\": \"string\",\n        \"num_unique_values\": 59568,\n        \"samples\": [\n          \"Admission Date:  [**2133-3-3**]              Discharge Date:   [**2133-3-12**]\\n\\nDate of Birth:  [**2089-4-15**]             Sex:   F\\n\\nService: SURGERY\\n\\nAllergies:\\nPatient recorded as having No Known Allergies to Drugs\\n\\nAttending:[**First Name3 (LF) 301**]\\nChief Complaint:\\nPatient admitted for weight reduction surgery.\\n\\nMajor Surgical or Invasive Procedure:\\nStatus Post Laparoscopic Gastric Bypass\\n\\nHistory of Present Illness:\\n[**Known firstname **] has class III morbid obesity with weight of 290.1 lbs as\\nof [**2132-10-15**] (her initial screen weight on [**2132-10-6**] was 286.9\\nlbs),\\nheight of 64.5 inches and BMI of 49. Her previous weight loss\\nefforts have included 2 months of the [**Doctor Last Name 1729**] diet in [**2127**] and\\n[**2129**] losing 20 lbs, 4 months of prescription weight loss\\nmedication Phentermine in [**2122**]-[**2123**] losing 47 lbs that she\\nregained after stopping medication in one year and 3 months of\\nPondimin (Fenfluramine) in [**2112**] losing 20 lbs.\\n\\nPast Medical History:\\ndyslipidemia, urinary stressincontinence, migraine headaches,\\nGERD, gallbladder disease and b/l knee and low back pain\\n\\nSocial History:\\nShe denied tobacco and recreational drug usage, has one bottle\\nof wine cooler twice a month and drinks 5-7 cups of coffee a\\nday.  She works as a manager for\\n[**Company 33655**] insurance company. She is married living with her\\nhusband age 43 and they have 3 children ages 12, 17 and 20 years\\nold.\\n\\n\\nFamily History:\\nHer family history is\\nnoted for both parents living father age 74 with obesity; mother\\nin her 70s with cancer; aunt living in her 70s with diabetes and\\ngrandmother deceased with diabetes.\\n\\nPhysical Exam:\\nHer blood pressure was 134/90, pulse 98 and O2 saturation 98%\\nroom air. On physical examination [**Known firstname **] was casually dressed,\\nslightly anxious but in no distress. Skin was warm, moist, no\\nrashes. Sclerae were anicteric, conjunctiva clear, pupils were\\nequal round and reactive to light, fundi were normal, mucous\\nmembranes were moist, tongue pink and the oropharynx was without\\nexudates or hyperemia. Trachea was in the midline and the neck\\nwas supple without adenopathy, thyromegaly or carotid bruits.\\nChest was symmetric and the lungs were clear to auscultation\\nbilaterally with good air movement. Cardiac exam was regular\\nrate\\nand rhythm, normal S1 and S2, no murmurs, rubs or gallops. The\\nabdomen was obese but soft and non-tender, non-distended with\\nnormal bowel sounds, no masses, healed trocar scars, no hernias.\\nThere was no spinal tenderness or flank pain. Lower extremities\\nwere without edema, venous insufficiency or clubbing. There was\\nno joint swelling or joint inflammation. There were no focal\\nneurological deficits.\\n\\n\\nPertinent Results:\\n[**2133-3-5**] 10:21PM BLOOD PTT-38.4*\\n[**2133-3-6**] 04:10AM BLOOD WBC-13.8*# RBC-3.83* Hgb-11.8* Hct-32.8*\\nMCV-86 MCH-30.7 MCHC-35.8* RDW-13.9 Plt Ct-224\\n[**2133-3-6**] 04:10AM BLOOD Glucose-108* UreaN-7 Creat-0.6 Na-136\\nK-3.5 Cl-101 HCO3-25 AnGap-14\\n[**2133-3-5**] 01:42AM BLOOD Type-ART pO2-45* pCO2-34* pH-7.47*\\ncalTCO2-25 Base XS-1 Intubat-NOT INTUBA Comment-COLLECTION\\n[**2133-3-5**] 01:42AM BLOOD freeCa-1.10*\\n\\n[**2133-3-5**] CTA of Chest\\nMassive PE, including a saddle embolus, occluding right main\\npulmonary artery\\nand multiple lobar, segmental and subsegmental right sided\\nemboli. Evidence\\nof right ventricular strain; right main pulmonary artery is\\nprogressively\\ndilated on delayed scan.\\n\\n[**2133-3-6**] Lower extremity Ultrasound\\nCompressible but echogenic left greater saphenous and common\\nfemoral veins\\nwith possible slight decrease of variability in the common\\nfemoral veins\\n(compared with the right) is compatible with a more proximal\\npartially-occlusive thrombus.\\n\\n\\nBrief Hospital Course:\\nPatient admitted and underwent a laparoscopic gastric bypass on\\n[**2133-3-3**]. Postoperatively patient developed tachycardia and\\nintermittent drops in oxygen saturation. On postoperative day\\none she underwent an upper gi study that confirmed no leak or\\nobstruction. A chest x-ray showed lung volumes relatively low,\\na heart that is moderately enlarged, but no signs of\\noverhydration was seen and\\nModerate retrocardiac atelectasis, but no evidence of pneumonia,\\nno pneumothorax. Patient was then given CT scan of chest. This\\nconfirmed a Massive PE, including a saddle embolus, occluding\\nright main pulmonary artery and multiple lobar, segmental and\\nsubsegmental right sided emboli. Patient was immediately started\\non a heparin gtt and transfered to the intensive care unit for\\nclose monitoring.\\n\\nOn postoperative day 3 patient had an ultrasound of her lower\\nextremities to rule out clot. This exam showed Compressible but\\nechogenic left greater saphenous and common femoral veins with\\npossible slight decrease of variability in the common femoral\\nveins (compared with the right) is compatible with a more\\nproximal\\npartially-occlusive thrombus.\\n\\nVascular service consulted. Recommends that INR be maintained\\nbetween 2.5 - 3. Coumadin to be continued for 6 months.\\n\\nOn Postoperative day 7 her heparin gtt was discontinued as her\\nINR was 3.5.\\n\\nOn postoperative day 9 her INR was 3.6.\\n\\nWe will discharge her home on coumadin 2.5mg daily with follow\\nup management by her primary care provider. [**Last Name (NamePattern4) **]. [**Last Name (STitle) **] at\\n[**Telephone/Fax (1) 60008**]. I have spoken with Dr. [**Last Name (STitle) **] regarding [**Hospital 228**]\\nhospital course and follow up needs. Dr. [**Last Name (STitle) **] has agreed to\\nsee [**Known firstname **] on Friday [**3-13**] and manage her coumadin regimen.\\n\\n[**Known firstname **] has been given information regarding coumadin and it's\\nside effects. She will follow up with Dr. [**Last Name (STitle) **] in 2 weeks.\\n\\n\\nMedications on Admission:\\nMidol PRN cramps; Tylenol ES, Aleve and Advil for knee and back\\npain PRN; daily MV with minerals and Vitamin D 1000 U QD\\n\\nDischarge Medications:\\n1. Docusate Sodium 50 mg/5 mL Liquid Sig: Ten (10) ml PO BID (2\\ntimes a day).\\nDisp:*500 ml* Refills:*0*\\n2. Oxycodone-Acetaminophen 5-325 mg/5 mL Solution Sig: 5-10 MLs\\nPO Q4H (every 4 hours) as needed for pain.\\nDisp:*500 ml* Refills:*0*\\n3. Zantac 15 mg/mL Syrup Sig: Ten (10) ml PO twice a day.\\nDisp:*600 ml* Refills:*0*\\n\\n\\nDischarge Disposition:\\nHome\\n\\nDischarge Diagnosis:\\nPrimary Diagnosis: Obesity\\n\\n\\nDischarge Condition:\\nStable\\n\\n\\nDischarge Instructions:\\nDischarge Instructions: Please call your surgeon or return to\\nthe emergency department if you develop a fever greater than\\n101.5, chest pain, shortness of breath, severe abdominal pain,\\npain unrelieved by your pain medication, severe nausea or\\nvomiting, severe abdominal bloating, inability to eat or drink,\\nfoul smelling or colorful drainage from your incisions, redness\\nor swelling around your incisions, or any other symptoms which\\nare concerning to you.\\n\\nDiet: Stay on Stage III diet until your follow up appointment.\\nDo not self advance\\ndiet, do not drink out of a straw or chew gum.\\n\\nMedication Instructions:\\nResume your home medications, CRUSH ALL PILLS.\\nYou will be starting some new medications:\\n1.  You are being discharged on medications to treat the pain\\nfrom your operation. These medications will make you drowsy and\\nimpair your ability to drive a motor vehicle or operate\\nmachinery safely. You MUST refrain from such activities while\\ntaking these medications.\\n2. You should begin taking a chewable complete multivitamin with\\nminerals. No gummy vitamins.\\n3. You will be taking Zantac liquid 150 mg twice daily for one\\nmonth. This medicine prevents gastric reflux.\\n4. You should take a stool softener, Colace, twice daily for\\nconstipation as needed, or until you resume a normal bowel\\npattern.\\n5. You must not use NSAIDS (non-steroidal anti-inflammatory\\ndrugs) Examples are Ibuprofen, Motrin, Aleve, Nuprin and\\nNaproxen. These agents will cause bleeding and ulcers in your\\ndigestive system.\\n\\nActivity:\\nNo heavy lifting of items [**9-17**] pounds for 6 weeks. You may\\nresume moderate\\nexercise at your discretion, no abdominal exercises.\\n\\nWound Care:\\nYou may shower, no tub baths or swimming.\\nIf there is clear drainage from your incisions, cover with\\nclean, dry gauze.\\nYour steri-strips will fall off on their own. Please remove any\\nremaining strips 7-10 days after surgery.\\nPlease call the doctor if you have increased pain, swelling,\\nredness, or drainage from the incision sites.\\n\\n\\nFollowup Instructions:\\nProvider: [**First Name11 (Name Pattern1) **] [**Initials (NamePattern4) **] [**Last Name (NamePattern4) 18800**], RD Phone:[**Telephone/Fax (1) 305**]\\nDate/Time:[**2133-3-18**] 3:30\\nProvider: [**First Name11 (Name Pattern1) **] [**Last Name (NamePattern1) 304**], MD Phone:[**Telephone/Fax (1) 305**]\\nDate/Time:[**2133-3-18**] 4:00\\nProvider: [**First Name11 (Name Pattern1) **] [**Initials (NamePattern4) **] [**Last Name (NamePattern4) 18800**], RD Phone:[**Telephone/Fax (1) 305**]\\nDate/Time:[**2133-4-24**] 9:00\\n\\n\\n\\nCompleted by:[**2133-3-12**]\",\n          \"Admission Date:  [**2111-12-25**]              Discharge Date:   [**2112-1-8**]\\n\\nDate of Birth:  [**2057-3-22**]             Sex:   F\\n\\nService: SURGERY\\n\\nAllergies:\\nLatex\\n\\nAttending:[**First Name3 (LF) 1**]\\nChief Complaint:\\nSmall bowel obstruction\\n\\nMajor Surgical or Invasive Procedure:\\nExploratory laparotomy, extensive lysis of\\nadhesions, small bowel resection, reanastomosis and repair\\nenterotomy, revision of ileal urinary conduit loop\\n\\n\\nHistory of Present Illness:\\n54F with h/o spina bifida with LE immobility, recurrent SBO, HCV\\np/w abdominal pain. She states that her last episode of SBO was\\n7 years ago. She developed severe abdominal pain in the\\nafternoon after a large meal. The pain was severe constant,\\ndiffuse, improved somewhat with emesis. She developed the emesis\\nfor a couple of episodes, food, no blood. She presented to the\\nED and was found to have SBO on CT. She received morphine and\\n6mg ativan for anxiety. Her pain improved to [**2113-5-1**]. Surgetry\\nsaw the patient and placed NG tube, recommended IVF, NG tube\\nsuction, serial exams. She was admitted to hospitalist service\\nfor further evaluation.\\n\\nPast Medical History:\\n1.  Osteomyelitis of L ischium [**11-28**]\\n2.  Spina bifida\\n3.  Small bowel obstructions\\n4.  Chronic constipation\\n5.  Recurrent Cellulitis\\n6.  Panic disorder, agoraphobia\\n7.  Vascular insufficiency\\n8.  Chronic constipation\\n9.  Iron deficiency anemia\\n10. Cystectomy at 12 yo, Urostomy tubes\\n11. Multiple UTIs\\nPAST SURGICAL HISTORY:\\n1.  Exploratory laparotomy times three; last one 20 years\\nago ([**2-28**] multiple adhesions).\\n2.  Back surgeries.\\n3.  Hip replacement\\n4.  Ankle surgeries.\\n5.  Right rotator cuff repair.\\n6.  Ileoconduit neobladder.\\n\\n\\nSocial History:\\nDenies ETOH, tobacco products, or drugs.\\n\\nFamily History:\\nMicro\\nPseudomonas from swab [**2106-7-7**] -pan sensitive\\nKLEBSIELLA PNEUMONIAE, PSEUDOMONAS AERUGINOSA swab [**2105-1-30**] pan\\nsensitive\\nULCER L ISCHEAL Ulcer MRSA,pseudomonas in path\\nBONE LEFT ESCHIAL enteroccocus s to vanco\\n\\nPhysical Exam:\\nVS: Temp: 98.4  BP:  167/101  HR: 118  RR: 18  O2sat: 99 RA\\n.\\nGen: appears somewhat uncomfortable, though no distress\\nHEENT: PERRL, EOMI. No conjunctival injection.\\nNeck: Supple, no LAD, no JVP elevation.\\nLungs: CTA bilaterally, no wheezes, rales, rhonchi. Normal\\nrespiratory effort.\\nCV: tachy, no murmurs, rubs, gallops.\\nAbdomen: mildly firm and distended, diminished BS, mild TTP\\ndiffusely, no guarding\\nExtremities: 1+ edema, erythema, no tenderness\\nNeurological: alert and oriented X 3,\\nNo dysmetria on finger to nose.\\nSkin: No rashes or ulcers.\\nPsychiatric: Appropriate.\\n\\nPertinent Results:\\n[**2111-12-25**] 09:03AM   PTH-32\\n[**2111-12-25**] 06:48AM   GLUCOSE-158* UREA N-19 CREAT-0.6 SODIUM-143\\nPOTASSIUM-4.0 CHLORIDE-102 TOTAL CO2-25 ANION GAP-20\\n[**2111-12-25**] 06:48AM   estGFR-Using this\\n[**2111-12-25**] 06:48AM   ALT(SGPT)-31 AST(SGOT)-29 ALK PHOS-59 TOT\\nBILI-1.8*\\n[**2111-12-25**] 06:48AM   CALCIUM-10.7* PHOSPHATE-2.4* MAGNESIUM-2.2\\n\\nABDOMEN (SUPINE & ERECT) Study Date of [**2111-12-25**] 7:13 AM\\nFINDINGS: There is unconventional anatomy due to patient's\\nhistory of spina bifida. Multiple dilated loops of bowel with\\nsmall bowel measuring up to 4.4 cm in diameter are seen. In the\\nleft lateral decubitus view, multiple air- fluid levels are\\nseen. Stool is noted within the distal portion of the colon. No\\nfree air is definitively seen.\\nIMPRESSION: Dilated small bowel loops with multiple air-fluid\\nlevels\\nsuggestive of ileus versus small-bowel obstruction.\\n\\nCT ABDOMEN W/CONTRAST Study Date of [**2111-12-25**] 11:49 AM\\nIMPRESSION:\\n1. High-grade obstruction with transition point located in the\\ndistal ileum.\\n2. Associated hydroureter in patient with prior ileal conduit\\nand neobladder surgery.\\n3. Multiple hypoattenuating hepatic lesions likely hepatic cysts\\nor\\nhemangiomas, stable.\\n4. Left gluteal decubitus ulcer, stable.\\n5. Prominent perirectal/gluteal cleft soft tissue of unclear\\nsignificance but stable since prior scan. Correlation with\\ndigital rectal exam could be done after resolution of patient's\\nemergent issues.\\n\\nRENAL U.S. Study Date of [**2111-12-27**] 9:38 AM\\nIMPRESSION:\\nMarkedly limited renal ultrasound as described above.\\nNo significant appreciable change in the degree of bilateral\\nhydronephrosis and hydroureter from most recent CT examination.\\n\\nPortable TTE (Complete) Done [**2111-12-30**] at 11:29:34 AM\\nThe left atrium and right atrium are normal in cavity size. Left\\nventricular wall thickness, cavity size and regional/global\\nsystolic function are normal (LVEF >55%). Right ventricular\\nchamber size and free wall motion are normal. The aortic valve\\nleaflets (3) appear structurally normal with good leaflet\\nexcursion and no aortic regurgitation. The mitral valve leaflets\\nare structurally normal. There is no mitral valve prolapse. No\\nmass or vegetation is seen on the mitral valve. Mild (1+) mitral\\nregurgitation is seen. There is mild pulmonary artery systolic\\nhypertension. There is a trivial/physiologic pericardial\\neffusion.\\nCompared with the prior study (images reviewed) of [**2110-6-26**],\\nthe estimated pulmonary artery systolic pressure is higher. (LV\\nsystolic function appeared normal on review of the prior study).\\n.\\n\\n[**2112-1-8**] 05:54AM BLOOD WBC-14.2* RBC-3.17* Hgb-9.7* Hct-27.1*\\nMCV-85 MCH-30.7 MCHC-35.9* RDW-15.8* Plt Ct-226\\n[**2112-1-6**] 06:26AM BLOOD WBC-13.1* RBC-3.52* Hgb-10.6* Hct-29.1*\\nMCV-83 MCH-30.3 MCHC-36.5* RDW-14.6 Plt Ct-257\\n[**2112-1-5**] 06:08AM BLOOD WBC-13.2* RBC-3.76* Hgb-11.2* Hct-31.6*\\nMCV-84 MCH-29.7 MCHC-35.4* RDW-14.3 Plt Ct-287\\n[**2112-1-4**] 04:48AM BLOOD WBC-10.7 RBC-3.23* Hgb-9.8* Hct-27.5*\\nMCV-85 MCH-30.4 MCHC-35.7* RDW-14.5 Plt Ct-239\\n[**2112-1-8**] 05:54AM BLOOD Glucose-155* UreaN-22* Creat-0.6 Na-144\\nK-5.5* Cl-118* HCO3-21* AnGap-11\\n[**2112-1-6**] 06:26AM BLOOD Glucose-107* UreaN-13 Creat-0.3* Na-146*\\nK-3.4 Cl-112* HCO3-29 AnGap-8\\n[**2112-1-5**] 06:08AM BLOOD Glucose-120* UreaN-11 Creat-0.4 Na-146*\\nK-3.5 Cl-109* HCO3-31 AnGap-10\\n[**2112-1-4**] 04:48AM BLOOD Glucose-100 UreaN-10 Creat-0.4 Na-145\\nK-4.0 Cl-108 HCO3-31 AnGap-10\\n[**2111-12-25**] 06:48AM BLOOD Glucose-158* UreaN-19 Creat-0.6 Na-143\\nK-4.0 Cl-102 HCO3-25 AnGap-20\\n[**2112-1-2**] 05:03AM BLOOD ALT-15 AST-20 LD(LDH)-169 AlkPhos-34*\\nTotBili-1.1\\n[**2112-1-8**] 05:54AM BLOOD Calcium-10.8* Phos-4.2 Mg-3.0*\\n[**2111-12-29**] 05:01AM BLOOD Albumin-2.2* Calcium-7.9* Phos-3.1 Mg-1.9\\n\\nBrief Hospital Course:\\n54F with h/o spina bifida with LE immobility, recurrent SBO, HCV\\nnow with SBO and acute renal failure\\n.\\n1. SBO/Sepsis:  High grade small bowel obstruction in imaging.\\nSBO was performed with the removal of 3 feet of necrotic small\\nbowel.  Within 12 hours of the procedure, the patient was noted\\nto be hypotensive and required aggressive hydration and a short\\ninterval of pressor support.   She was initally treated with\\nvanc/cipro/flagyl but there was concern for allergy to one of\\nthese medications and so the patient was switched to vanc/zosyn\\nfor coverage of abdominal flora.  Once patient was transferred\\nto floor (Stone 5), SBP's remained elevated 140 to 170's. Over\\nseveral days, her blood pressures stablized and returned back to\\nher baseline ranging between 100-110 systolic. She continues\\nwith IV Lopressor, and should be transistioned to oral Lopressor\\nonce tolerating oral medications.\\n.\\n# Hypoxic Respiratory Failure: Pt was intubated for sugery but\\ncontinued to require up to POD#8.  Barriers to her immediate\\nextubation pulmonary edema in the setting of aggressive fluid\\nresusitaion and labile hypertension. The patients respiratory\\nstatus stabilized, and remained stable during her hospital\\ncourse.\\n.\\n# Anxiety:  Patient has significant anxiety at baseline and\\ntypically takes 2mg xanax every 8 hours at home.  While\\nintubated, the patient required versed and peri-extubation, was\\ntreated with haldol to minimize agitation. Once on the floor\\n([**Hospital Ward Name 1950**] 5), her she appeared somnolent with intermittent\\ndelirium & hallucinations. All Benzo's and Narcotics were held\\nfor 2-3 days. At this time, Psych was consulted for furhter\\nmanagement, and per the husband's request. The husband had been\\ngiving the patient xanax from home. This was discussed with him,\\nand stopped. Her delirium waxed and waned. Home xanax regimen\\nwas resumed per Psych recommendation. Currently, her mental\\nstatus has been much improved with mild confusion occurring\\novernight. She is easily re-oriented, and non-combative.\\n.\\n# ARF: Renal following. Multiple causes possible. Received IV\\ncontrast for CT scan on [**12-25**]. Also noted to have bilateral\\nhydonephrosis on CT scan, confirmed and unchanged on renal u/s\\non [**12-27**].\\n-Renal and urology services followed patient during admission.\\n-She was adequately volume rescuscitated, Creatinine was\\nfollowed with marked improvement back to baseline. Her urostomy\\nappliance was completely changed on [**2112-1-7**]. U/A C+S was sent\\non [**2112-1-6**] for slight elevation in WBC to 13. Culture with no\\ngrowth. UA-negative. Urine clear, yellow.\\n.\\n# ID: She will continue with another 3 days of IV Vanco and\\nZosyn for a total of 10days to treat post-op fever which\\noccurred in the ICU. WBC slightly elevated for past few days\\nfrom 13-14. Patient does not exhibit any other symptoms of\\ninfection. Vitals are stable. Cognitive status improved, and\\nabdominal incision without signs of infection.\\n.\\n# Skin: Midline abdominal incision OTA with staples. Occasional\\nserosanguinous drainage. Apply ABD pad as needed. Staples to be\\nremoved in [**1-28**] weeks at follow-up appointment with Dr.\\n[**Last Name (STitle) **]. Patient requires aggressive skin care due to\\nmobility deficits. Miconazole powder to skin folds-rash\\nimproved. Continue to monitor old decubitus site back of left\\nthigh. Apply Duoderm for protection.\\n.\\n# spina bifida:\\n- no active issues\\n.\\n# Nutrition: Diet advanced to regular food. Continues with poor\\nappetite and occasional N/V. Calorie counts initiated. TPN\\nstarted in ICU, and continued to present day due to poor PO\\nintake. TPN cycled over 12 hours. Electrolytes titrated based on\\ndaily labwork. Discontinued TPN once PO intake meets daily\\ncaloric needs.\\n.\\n# Access: Right DL PICC placed on [**2112-1-4**]\\n.\\n# Code: Full Code\\n\\n\\nMedications on Admission:\\nalprazolam 2 TID, hiprex 1gm [**Hospital1 **], vitamin C 1000 QD\\n\\nDischarge Medications:\\n1. Miconazole Nitrate 2 % Powder Sig: One (1) Appl Topical TID\\n(3 times a day): To affected area.\\n2. Senna 8.6 mg Tablet Sig: 1-2 Tablets PO BID (2 times a day)\\nas needed for constipation.\\n3. Docusate Sodium 50 mg/5 mL Liquid Sig: One (1)  PO BID (2\\ntimes a day) as needed for constipation.\\n4. Alprazolam 1 mg Tablet Sig: One (1) Tablet PO QHS (once a day\\n(at bedtime)).\\n5. Alprazolam 0.25 mg Tablet Sig: Two (2) Tablet PO QAM AND\\nQNOON ().\\n6. Pantoprazole 40 mg Tablet, Delayed Release (E.C.) Sig: One\\n(1) Tablet, Delayed Release (E.C.) PO Q24H (every 24 hours).\\n7. Ascorbic Acid 500 mg Tablet Sig: Two (2) Tablet PO DAILY\\n(Daily).\\n8. Bisacodyl 5 mg Tablet, Delayed Release (E.C.) Sig: Two (2)\\nTablet, Delayed Release (E.C.) PO DAILY (Daily) as needed for\\nconstipation.\\n9. Hiprex 1 gram Tablet Sig: One (1) Tablet PO BID (2 times a\\nday).\\n10. Acetaminophen 325 mg Tablet Sig: Two (2) Tablet PO Q6H\\n(every 6 hours) as needed for fever.\\n11. Vancomycin in Dextrose 1 gram/200 mL Piggyback Sig: One (1)\\nIntravenous Q 12H (Every 12 Hours) for 3 days.\\n12. Piperacillin-Tazobactam-Dextrs 4.5 gram/100 mL Piggyback\\nSig: One (1)  Intravenous Q8H (every 8 hours) for 3 days.\\n13. Metoprolol Tartrate 5 mg/5 mL Solution Sig: One (1)\\nIntravenous Q4H (every 4 hours).\\n14. Ondansetron HCl (PF) 4 mg/2 mL Solution Sig: One (1)\\nInjection Q8H (every 8 hours) as needed for nausea.\\n15. Albuterol Sulfate 2.5 mg /3 mL (0.083 %) Solution for\\nNebulization Sig: One (1)  Inhalation Q6H (every 6 hours) as\\nneeded for Dyspnea.\\n16. Ipratropium Bromide 0.02 % Solution Sig: One (1)  Inhalation\\nQ6H (every 6 hours) as needed for dyspnea.\\n\\n\\nDischarge Disposition:\\nExtended Care\\n\\nFacility:\\n[**Hospital6 459**] for the Aged - MACU\\n\\nDischarge Diagnosis:\\nPrimary:\\nSmall bowel obstruction\\nIschemic bowel\\nHypoxic respiratory failure\\nAcute renal failure\\nPost-op hypotension\\nPost-op delirium\\n.\\nSecondary:\\nileoconduit\\nmultiple SBO\\nspina bifida\\nchronic constipation\\nHCV\\nrecurrent UTI\\nPanic disorder, agoraphobia\\nOsteomyelitis of L ischium [**11-28**]\\n\\n\\nDischarge Condition:\\nStable\\nTolerating clear liquids, and some regular food\\nPain well controlled.\\n\\nDischarge Instructions:\\nPlease call your doctor or return to the ER for any of the\\nfollowing:\\n* You experience new chest pain, pressure, squeezing or\\ntightness.\\n* New or worsening cough or wheezing.\\n* If you are vomiting and cannot keep in fluids or your\\nmedications.\\n* You are getting dehydrated due to continued vomiting,\\ndiarrhea or other reasons. Signs of dehydration include dry\\nmouth, rapid heartbeat or feeling dizzy or faint when standing.\\n* You see blood or dark/black material when you vomit or have a\\nbowel movement.\\n* Your pain is not improving within 8-12 hours or not gone\\nwithin 24 hours. Call or return immediately if your pain is\\ngetting worse or is changing location or moving to your chest or\\n\\nback.\\n*Avoid lifting objects > 5lbs until your follow-up appointment\\nwith the surgeon.\\n*Avoid driving or operating heavy machinery while taking pain\\nmedications.\\n* You have shaking chills, or a fever greater than 101.5 (F)\\ndegrees or 38(C) degrees.\\n* Any serious change in your symptoms, or any new symptoms that\\nconcern you.\\n* Please resume all regular home medications and take any new\\nmeds\\nas ordered.\\n* Continue to ambulate several times per day.\\n.\\nIncision Care:\\n-Apply DSD/ABD pad to incision PRN for serosanguinous drainage.\\n-Your staples will be removed at your follow-up appointment.\\nSteri strips will be applied.\\n-Your steri-strips will fall off on their own. Please remove any\\nremaining strips 7-10 days after surgery.\\n-You may shower, and wash surgical incisions.\\n-Avoid swimming and baths until your follow-up appointment.\\n-Please call the doctor if you have increased pain, swelling,\\nredness, or drainage from the incision sites.\\n.\\nUrostomy to gravity.\\nTap water enemas daily, then to twice weekly once bowel function\\nreturns to baseline.\\nCalorie counts.\\n\\n\\nFollowup Instructions:\\n1. Please follow-up with Dr. [**Last Name (STitle) **] [**Telephone/Fax (1) 9**] in 2\\nweeks. Call to arrange appointment.\\n2. Follow-up with PCP, [**Last Name (NamePattern4) **]. [**First Name8 (NamePattern2) **] [**Name (STitle) **] [**Telephone/Fax (1) 250**] in 1 week\\nOR as needed.\\n\\n\\nCompleted by:[**2112-1-8**]\",\n          \"Name:  [**Known lastname **],[**Known firstname **]                     Unit No:   [**Numeric Identifier 2438**]\\n\\nAdmission Date:  [**2174-12-17**]              Discharge Date:   [**2174-12-29**]\\n\\nDate of Birth:  [**2095-2-8**]             Sex:   M\\n\\nService: CARDIOTHORACIC\\n\\nAllergies:\\nPatient recorded as having No Known Allergies to Drugs\\n\\nAttending:[**First Name3 (LF) 1543**]\\nAddendum:\\nOn the morning of planned discharge [**12-28**] he had sinus\\nbradycardia to the 40s. he was assymptomatic with BP 120s.\\nElectrophysiology service consultation was obtained and their\\nrecommendation was to continue low dose beta blockade and let\\nhis rate occassionally fall.  He was discharged on the 20th.\\n\\nChief Complaint:\\nbradycardia\\n\\nMajor Surgical or Invasive Procedure:\\ncoronary artery bypass grafts (LIMA-LAD, SVG-OM1,\\nSVG-OM2,SVG-DG) [**12-21**]\\nleft heart cathaterization and coronary angiography\\n\\n\\nHistory of Present Illness:\\nsee prior summary\\n\\nPast Medical History:\\nDiabetes\\nDyslipidemia\\nHypertension\\nh/o Stage IIIB melanoma\\nh/o B-cell non-Hodgkinds lymphoma\\nHistory of basal cell carcinoma.\\nbenign prostatic hypertrophy.\\n\\n\\nSocial History:\\nSocial history is significant for the absence of current tobacco\\nuse. There is no history of alcohol abuse. He is a retired\\nschoolteacher and administrator. He has been married for more\\nthan 50 years. He has two children and five grandchildren.\\n.\\n\\n\\n\\nFamily History:\\nFamily history significant for father who had heart disease and\\n\\npossible anemia. Mother died of heart disease. He has a brother\\n\\nwho is healthy, sister died from complications of obesity,\\nlikely\\nheart disease. His children are healthy. He has one grandchild\\nwith celiac disease.\\n\\nPhysical Exam:\\nsee summary\\n\\nPertinent Results:\\nsee summary\\n\\nBrief Hospital Course:\\nsee discharge\\n\\nMedications on Admission:\\nsee discharge summary\\n\\nDischarge Medications:\\n1. Influen Tr-Split [**2174**] Vac (PF) 45 mcg/0.5 mL Syringe Sig: One\\n(1) ML Intramuscular ASDIR (AS DIRECTED).\\n2. Docusate Sodium 100 mg Capsule Sig: One (1) Capsule PO BID (2\\ntimes a day). Capsule(s)\\n3. Ranitidine HCl 150 mg Tablet Sig: One (1) Tablet PO DAILY\\n(Daily).\\n4. Aspirin 81 mg Tablet, Delayed Release (E.C.) Sig: One (1)\\nTablet, Delayed Release (E.C.) PO DAILY (Daily).\\n5. Acetaminophen 325 mg Tablet Sig: Two (2) Tablet PO Q4H (every\\n4 hours) as needed. Tablet(s)\\n6. Atorvastatin 10 mg Tablet Sig: One (1) Tablet PO DAILY\\n(Daily).\\n7. Tramadol 50 mg Tablet Sig: One (1) Tablet PO Q4H (every 4\\nhours) as needed.\\n8. Albuterol 90 mcg/Actuation Aerosol Sig: Two (2) Puff\\nInhalation Q4H (every 4 hours) as needed.\\n9. Fluticasone 110 mcg/Actuation Aerosol Sig: Two (2) Puff\\nInhalation [**Hospital1 **] (2 times a day).\\n10. Ipratropium Bromide 17 mcg/Actuation Aerosol Sig: Two (2)\\nPuff Inhalation QID (4 times a day).\\n11. Terazosin 5 mg Capsule Sig: One (1) Capsule PO HS (at\\nbedtime).\\n12. Magnesium Hydroxide 400 mg/5 mL Suspension Sig: Thirty (30)\\nML PO HS (at bedtime) as needed for constipation.\\n13. Bisacodyl 10 mg Suppository Sig: One (1) Suppository Rectal\\nDAILY (Daily) as needed for constipation.\\n14. Metoprolol Tartrate 25 mg Tablet Sig: 0.5 Tablet PO BID (2\\ntimes a day).\\n15. Insulin Regular Human 100 unit/mL Solution Sig: see sliding\\nscale  Injection ASDIR (AS DIRECTED): 120-160-2units SQ\\n161-200-4units SQ\\n201-240-6units SQ\\n241-280-8units SQ.\\n\\n\\nDischarge Disposition:\\nExtended Care\\n\\nFacility:\\n[**Hospital3 901**] - [**Location (un) 382**]\\n\\nDischarge Diagnosis:\\ncoronary artery disease\\ns/p coronary artery bypass graft\\nbenign prostatic hypertrophy\\nnoninsulin dependent diabetes mellitus\\nhyperlipidemia\\nh/o B cell nonHodgkins Lymphoma\\nperipheral vascular disease\\nhypertension\\nh/o melanoma\\n\\n\\nDischarge Condition:\\nGood\\n\\n\\nDischarge Instructions:\\nPlease shower daily including washing incisions, no baths or\\nswimming\\nMonitor wounds for infection - redness, drainage, or increased\\npain\\nReport any fever greater than 101\\nReport any weight gain of greater than 2 pounds in 24 hours or 5\\npounds in a week\\nNo creams, lotions, powders, or ointments to incisions\\nNo driving for approximately one month\\nNo lifting more than 10 pounds for 10 weeks\\nPlease call with any questions or concerns [**Telephone/Fax (1) 1477**]\\n\\n\\nFollowup Instructions:\\nDr. [**Last Name (STitle) **] in 4 weeks ([**Telephone/Fax (1) 1477**])\\nDr. [**Last Name (STitle) **] in 1 week ([**Telephone/Fax (1) 1154**])\\nDr. [**Last Name (STitle) 2439**] in 2 weeks\\nplease call for appointments\\nWound check appointment [**Hospital Ward Name **] 2 as instructed by nurse\\n([**Telephone/Fax (1) 2440**])\\n\\n\\n                             [**First Name11 (Name Pattern1) 33**] [**Last Name (NamePattern4) 1544**] MD [**MD Number(2) 1545**]\\n\\nCompleted by:[**2174-12-29**]\"\n        ],\n        \"semantic_type\": \"\",\n        \"description\": \"\"\n      }\n    },\n    {\n      \"column\": \"SHORT_TITLE\",\n      \"properties\": {\n        \"dtype\": \"object\",\n        \"semantic_type\": \"\",\n        \"description\": \"\"\n      }\n    }\n  ]\n}"
            }
          },
          "metadata": {},
          "execution_count": 5
        }
      ]
    },
    {
      "cell_type": "code",
      "source": [
        "from openai import OpenAI\n",
        "import pandas as pd\n",
        "from tqdm import tqdm\n",
        "\n",
        "# Initialize OpenAI client\n",
        "api_key = 'deleted'\n",
        "client = OpenAI(api_key=api_key)\n",
        "\n",
        "# --- Prompt Builder ---\n",
        "def build_heart_condition_prompt(note_text):\n",
        "    return f\"\"\"\n",
        "You are a clinical reasoning assistant.\n",
        "\n",
        "Question: Does the following hospital discharge summary indicate a heart-related condition such as congestive heart failure (CHF), myocardial infarction (MI), atrial fibrillation (AFib), cardiomyopathy, or coronary artery disease (CAD)?\n",
        "\n",
        "Discharge Summary:\n",
        "\\\"\\\"\\\"{note_text.strip()}\\\"\\\"\\\"\n",
        "\n",
        "Answer with a single word: Yes or No.\n",
        "\"\"\".strip()\n",
        "\n",
        "# --- GPT Function ---\n",
        "def classify_heart_condition(note_text, model=\"gpt-3.5-turbo\", verbose=False):\n",
        "    prompt = build_heart_condition_prompt(note_text)\n",
        "    response = client.chat.completions.create(\n",
        "        model=model,\n",
        "        messages=[{\"role\": \"user\", \"content\": prompt}],\n",
        "        temperature=0\n",
        "    )\n",
        "    answer = response.choices[0].message.content.strip().lower()\n",
        "\n",
        "    if verbose:\n",
        "        print(f\"Prompt:\\n{prompt}\\n---\\nAnswer: {answer}\\n\")\n",
        "\n",
        "    return answer\n",
        "\n",
        "# --- Filter to Narrow Heart Conditions ---\n",
        "heart_keywords = [\n",
        "    \"congestive heart failure\", \"chf\", \"myocardial infarction\", \"mi\",\n",
        "    \"atrial fibrillation\", \"afib\", \"coronary artery disease\", \"cad\", \"cardiomyopathy\"\n",
        "]\n",
        "\n",
        "def is_specific_heart_condition(diagnoses):\n",
        "    return any(any(k in d.lower() for k in heart_keywords) for d in diagnoses)\n",
        "\n",
        "# Apply filter\n",
        "grouped[\"label_heart_condition\"] = grouped[\"SHORT_TITLE\"].apply(is_specific_heart_condition)"
      ],
      "metadata": {
        "id": "IGpfxhnqJHrh"
      },
      "execution_count": null,
      "outputs": []
    },
    {
      "cell_type": "code",
      "source": [
        "# Sample evaluation set: 15 positive, 15 negative\n",
        "pos_samples = grouped[grouped[\"label_heart_condition\"]].sample(15, random_state=42)\n",
        "neg_samples = grouped[~grouped[\"label_heart_condition\"]].sample(15, random_state=42)\n",
        "eval_df = pd.concat([pos_samples, neg_samples]).sample(frac=1, random_state=42).reset_index(drop=True)\n",
        "\n",
        "# Run GPT classification\n",
        "tqdm.pandas()\n",
        "eval_df[\"gpt_answer\"] = eval_df[\"TEXT\"].progress_apply(classify_heart_condition)\n",
        "eval_df[\"gpt_label\"] = eval_df[\"gpt_answer\"].apply(lambda x: 1 if \"yes\" in x else 0)\n",
        "\n",
        "# Evaluate\n",
        "accuracy = (eval_df[\"gpt_label\"] == eval_df[\"label_heart_condition\"]).mean()\n",
        "print(f\"\\n GPT Binary Heart Condition Classification Accuracy: {accuracy:.2%}\")\n",
        "\n",
        "# Print a few sample results\n",
        "for i, row in eval_df.head(5).iterrows():\n",
        "    print(f\"\\n--- Sample #{i+1} ---\")\n",
        "    print(f\"Ground truth: {'Yes' if row['label_heart_condition'] else 'No'}\")\n",
        "    print(f\"GPT answer: {row['gpt_answer']}\")\n",
        "    print(f\"Match: {'Yes' if row['gpt_label'] == row['label_heart_condition'] else 'No'}\")\n"
      ],
      "metadata": {
        "colab": {
          "base_uri": "https://localhost:8080/"
        },
        "id": "3yPNUQEdJSYc",
        "outputId": "6a488ae1-84cf-4ee8-bb49-4dd66b53b42e"
      },
      "execution_count": null,
      "outputs": [
        {
          "output_type": "stream",
          "name": "stderr",
          "text": [
            "100%|██████████| 30/30 [00:20<00:00,  1.44it/s]"
          ]
        },
        {
          "output_type": "stream",
          "name": "stdout",
          "text": [
            "\n",
            " GPT Binary Heart Condition Classification Accuracy: 60.00%\n",
            "\n",
            "--- Sample #1 ---\n",
            "Ground truth: No\n",
            "GPT answer: no\n",
            "Match: Yes\n",
            "\n",
            "--- Sample #2 ---\n",
            "Ground truth: No\n",
            "GPT answer: no\n",
            "Match: Yes\n",
            "\n",
            "--- Sample #3 ---\n",
            "Ground truth: No\n",
            "GPT answer: yes\n",
            "Match: No\n",
            "\n",
            "--- Sample #4 ---\n",
            "Ground truth: No\n",
            "GPT answer: no\n",
            "Match: Yes\n",
            "\n",
            "--- Sample #5 ---\n",
            "Ground truth: Yes\n",
            "GPT answer: no\n",
            "Match: No\n"
          ]
        },
        {
          "output_type": "stream",
          "name": "stderr",
          "text": [
            "\n"
          ]
        }
      ]
    },
    {
      "cell_type": "code",
      "source": [
        "from sklearn.model_selection import train_test_split\n",
        "\n",
        "train_df, test_df = train_test_split(grouped, test_size=0.2, random_state=42)"
      ],
      "metadata": {
        "id": "-Qkrrues-hmY"
      },
      "execution_count": null,
      "outputs": []
    },
    {
      "cell_type": "code",
      "source": [
        "# Sample 30 of each class\n",
        "pos_samples = grouped[grouped[\"label_heart_condition\"]].sample(30, random_state=42)\n",
        "neg_samples = grouped[~grouped[\"label_heart_condition\"]].sample(30, random_state=42)\n",
        "\n",
        "# Combine and shuffle\n",
        "eval_df = pd.concat([pos_samples, neg_samples]).sample(frac=1, random_state=42).reset_index(drop=True)\n",
        "\n",
        "from tqdm import tqdm\n",
        "tqdm.pandas()\n",
        "\n",
        "eval_df[\"gpt_answer\"] = eval_df[\"TEXT\"].progress_apply(classify_heart_condition)\n",
        "eval_df[\"gpt_label\"] = eval_df[\"gpt_answer\"].apply(lambda x: 1 if \"yes\" in x else 0)"
      ],
      "metadata": {
        "colab": {
          "base_uri": "https://localhost:8080/"
        },
        "id": "mg3-1pmw-m7T",
        "outputId": "e249ddcc-ec2e-4564-d72f-23251754d71e"
      },
      "execution_count": null,
      "outputs": [
        {
          "output_type": "stream",
          "name": "stderr",
          "text": [
            "100%|██████████| 60/60 [00:40<00:00,  1.47it/s]\n"
          ]
        }
      ]
    },
    {
      "cell_type": "code",
      "source": [
        "from sklearn.metrics import accuracy_score, precision_score, recall_score, f1_score, confusion_matrix\n",
        "\n",
        "y_true = eval_df[\"label_heart_condition\"]\n",
        "y_pred = eval_df[\"gpt_label\"]\n",
        "\n",
        "acc = accuracy_score(y_true, y_pred)\n",
        "prec = precision_score(y_true, y_pred)\n",
        "rec = recall_score(y_true, y_pred)\n",
        "f1 = f1_score(y_true, y_pred)\n",
        "tn, fp, fn, tp = confusion_matrix(y_true, y_pred).ravel()\n",
        "\n",
        "print(\"\\nGPT Classification Stats (Heart Condition - 60 Cases):\")\n",
        "print(f\"Accuracy       : {acc:.2%}\")\n",
        "print(f\"Precision      : {prec:.2%}\")\n",
        "print(f\"Recall         : {rec:.2%}\")\n",
        "print(f\"F1 Score       : {f1:.2%}\")\n",
        "print(f\"Confusion Matrix: TP={tp}, FP={fp}, FN={fn}, TN={tn}\")"
      ],
      "metadata": {
        "colab": {
          "base_uri": "https://localhost:8080/"
        },
        "id": "sSVCVbeoLa-g",
        "outputId": "33b15dc3-0dba-497f-bee9-3b3c7330e187"
      },
      "execution_count": null,
      "outputs": [
        {
          "output_type": "stream",
          "name": "stdout",
          "text": [
            "\n",
            "GPT Classification Stats (Heart Condition - 60 Cases):\n",
            "Accuracy       : 63.33%\n",
            "Precision      : 75.00%\n",
            "Recall         : 40.00%\n",
            "F1 Score       : 52.17%\n",
            "Confusion Matrix: TP=12, FP=4, FN=18, TN=26\n"
          ]
        }
      ]
    },
    {
      "cell_type": "code",
      "source": [
        "def build_deep_reasoning_prompt(note_text):\n",
        "    return f\"\"\"\n",
        "You are a clinical reasoning assistant. Your task is to determine whether this discharge summary describes a heart-related condition. Think step-by-step like a physician.\n",
        "\n",
        "Step 1: Identify signs and symptoms relevant to cardiac conditions (e.g. chest pain, dyspnea, syncope).\n",
        "Step 2: Identify relevant lab or imaging results (e.g. troponin levels, ECG changes).\n",
        "Step 3: Identify any heart-related diagnoses explicitly stated.\n",
        "Step 4: Based on the above, decide if this case involves a heart-related condition like congestive heart failure (CHF), myocardial infarction (MI), atrial fibrillation (AFib), cardiomyopathy, or coronary artery disease (CAD).\n",
        "\n",
        "Discharge Summary:\n",
        "\\\"\\\"\\\"{note_text.strip()}\\\"\\\"\\\"\n",
        "\n",
        "Let’s reason through this carefully. At the end, answer with one word: Yes or No.\n",
        "\"\"\".strip()\n",
        "\n",
        "def classify_heart_condition_reasoning(note_text, model=\"gpt-3.5-turbo\"):\n",
        "    prompt = build_deep_reasoning_prompt(note_text)\n",
        "    response = client.chat.completions.create(\n",
        "        model=model,\n",
        "        messages=[{\"role\": \"user\", \"content\": prompt}],\n",
        "        temperature=0\n",
        "    )\n",
        "    return response.choices[0].message.content.strip().lower()"
      ],
      "metadata": {
        "id": "WzXcG_v9MDFy"
      },
      "execution_count": null,
      "outputs": []
    },
    {
      "cell_type": "code",
      "source": [
        "eval_df[\"gpt_reasoning_answer\"] = eval_df[\"TEXT\"].progress_apply(classify_heart_condition_reasoning)\n",
        "eval_df[\"gpt_reasoning_label\"] = eval_df[\"gpt_reasoning_answer\"].apply(lambda x: 1 if \"yes\" in x else 0)"
      ],
      "metadata": {
        "colab": {
          "base_uri": "https://localhost:8080/"
        },
        "id": "r-pxE_BROWxo",
        "outputId": "e48b55fc-763c-4931-de45-2224ab639ae6"
      },
      "execution_count": null,
      "outputs": [
        {
          "output_type": "stream",
          "name": "stderr",
          "text": [
            "100%|██████████| 60/60 [02:20<00:00,  2.34s/it]\n"
          ]
        }
      ]
    },
    {
      "cell_type": "code",
      "source": [
        "from sklearn.metrics import accuracy_score, precision_score, recall_score, f1_score, confusion_matrix\n",
        "\n",
        "y_true = eval_df[\"label_heart_condition\"]\n",
        "y_reasoning = eval_df[\"gpt_reasoning_label\"]\n",
        "\n",
        "acc = accuracy_score(y_true, y_reasoning)\n",
        "prec = precision_score(y_true, y_reasoning)\n",
        "rec = recall_score(y_true, y_reasoning)\n",
        "f1 = f1_score(y_true, y_reasoning)\n",
        "tn, fp, fn, tp = confusion_matrix(y_true, y_reasoning).ravel()\n",
        "\n",
        "print(\"\\nGPT + Reasoning Classification Stats:\")\n",
        "print(f\"Accuracy       : {acc:.2%}\")\n",
        "print(f\"Precision      : {prec:.2%}\")\n",
        "print(f\"Recall         : {rec:.2%}\")\n",
        "print(f\"F1 Score       : {f1:.2%}\")\n",
        "print(f\"Confusion Matrix: TP={tp}, FP={fp}, FN={fn}, TN={tn}\")"
      ],
      "metadata": {
        "colab": {
          "base_uri": "https://localhost:8080/"
        },
        "id": "II4HS1FvOeAE",
        "outputId": "73282ca3-05c3-429c-9283-d76fffe52415"
      },
      "execution_count": null,
      "outputs": [
        {
          "output_type": "stream",
          "name": "stdout",
          "text": [
            "\n",
            "GPT + Reasoning Classification Stats:\n",
            "Accuracy       : 70.00%\n",
            "Precision      : 77.27%\n",
            "Recall         : 56.67%\n",
            "F1 Score       : 65.38%\n",
            "Confusion Matrix: TP=17, FP=5, FN=13, TN=25\n"
          ]
        }
      ]
    },
    {
      "cell_type": "code",
      "source": [
        "len(train_df)"
      ],
      "metadata": {
        "colab": {
          "base_uri": "https://localhost:8080/"
        },
        "id": "UdYQJ5klSsKY",
        "outputId": "0e7374b7-c1c0-4996-b979-fc2f2ba8c2a6"
      },
      "execution_count": null,
      "outputs": [
        {
          "output_type": "execute_result",
          "data": {
            "text/plain": [
              "47506"
            ]
          },
          "metadata": {},
          "execution_count": 65
        }
      ]
    },
    {
      "cell_type": "code",
      "source": [
        "from sklearn.neighbors import NearestNeighbors\n",
        "\n",
        "# Filter long notes\n",
        "train_df_small = train_df[train_df[\"TEXT\"].str.len() < 30000].copy().head(100)\n",
        "\n",
        "# Embed\n",
        "def get_embedding(text, model=\"text-embedding-ada-002\"):\n",
        "    safe_text = text.strip()[:32000]\n",
        "    response = client.embeddings.create(model=model, input=[safe_text])\n",
        "    return response.data[0].embedding\n",
        "\n",
        "train_df_small[\"embedding\"] = train_df_small[\"TEXT\"].progress_apply(get_embedding)\n",
        "\n",
        "# Fit NearestNeighbors\n",
        "X_train = np.vstack(train_df_small[\"embedding\"].values)\n",
        "nn_model = NearestNeighbors(n_neighbors=1, metric=\"cosine\").fit(X_train)"
      ],
      "metadata": {
        "colab": {
          "base_uri": "https://localhost:8080/"
        },
        "id": "SOIaOapkQI01",
        "outputId": "34941158-0049-4322-f6e3-7b918b48c728"
      },
      "execution_count": null,
      "outputs": [
        {
          "output_type": "stream",
          "name": "stderr",
          "text": [
            "100%|██████████| 100/100 [00:56<00:00,  1.78it/s]\n"
          ]
        }
      ]
    },
    {
      "cell_type": "code",
      "source": [
        "def build_rag_prompt(test_note_text, similar_examples):\n",
        "    prompt = \"You are a clinical reasoning assistant. Given similar patient cases, determine whether the new discharge summary describes a heart-related condition.\\n\\n\"\n",
        "\n",
        "    for i, text in enumerate(similar_examples):\n",
        "        prompt += f\"Example {i+1}:\\n\\\"\\\"\\\"{text.strip()}\\\"\\\"\\\"\\n\"\n",
        "\n",
        "    prompt += \"\"\"\n",
        "Now read the new case carefully and follow these steps:\n",
        "Step 1: Identify any symptoms or complaints suggestive of a heart condition (e.g., chest pain, dyspnea, palpitations).\n",
        "Step 2: Look for diagnostic findings (e.g., ECG, troponin, echocardiogram).\n",
        "Step 3: Determine if a heart-related diagnosis (e.g., CHF, MI, AFib, CAD) is stated or strongly implied.\n",
        "Step 4: Conclude: Is this discharge summary consistent with a heart-related condition?\n",
        "\n",
        "New Case:\n",
        "\\\"\\\"\\\"\"\"\" + test_note_text.strip() + \"\"\"\\\"\\\"\\\"\n",
        "\n",
        "Final answer with one word: Yes or No.\"\"\"\n",
        "\n",
        "    return prompt\n",
        "\n",
        "def classify_heart_condition_rag(note_text, train_df, nn_model, model=\"gpt-3.5-turbo\"):\n",
        "    safe_text = note_text.strip()[:32000]\n",
        "    test_emb = get_embedding(safe_text)\n",
        "    distances, indices = nn_model.kneighbors([test_emb])\n",
        "    similar_notes = train_df.iloc[indices[0]][\"TEXT\"].tolist()\n",
        "    prompt = build_rag_prompt(safe_text, similar_notes)\n",
        "    response = client.chat.completions.create(\n",
        "        model=model,\n",
        "        messages=[{\"role\": \"user\", \"content\": prompt}],\n",
        "        temperature=0\n",
        "    )\n",
        "    return response.choices[0].message.content.strip().lower()"
      ],
      "metadata": {
        "id": "3FlEGwisTjpe"
      },
      "execution_count": null,
      "outputs": []
    },
    {
      "cell_type": "code",
      "source": [
        "eval_df[\"gpt_rag_answer\"] = eval_df[\"TEXT\"].progress_apply(\n",
        "    lambda x: classify_heart_condition_rag(x, train_df_small, nn_model)\n",
        ")\n",
        "eval_df[\"gpt_rag_label\"] = eval_df[\"gpt_rag_answer\"].apply(lambda x: 1 if \"yes\" in x else 0)"
      ],
      "metadata": {
        "colab": {
          "base_uri": "https://localhost:8080/"
        },
        "id": "UvI3gAQFQMPj",
        "outputId": "fd8280b6-bf01-4741-9b21-db5d064cb32a"
      },
      "execution_count": null,
      "outputs": [
        {
          "output_type": "stream",
          "name": "stderr",
          "text": [
            "100%|██████████| 60/60 [01:27<00:00,  1.46s/it]\n"
          ]
        }
      ]
    },
    {
      "cell_type": "code",
      "source": [
        "from sklearn.metrics import accuracy_score, precision_score, recall_score, f1_score, confusion_matrix\n",
        "\n",
        "y_pred = eval_df[\"gpt_rag_label\"]\n",
        "y_true = eval_df[\"label_heart_condition\"]\n",
        "\n",
        "acc = accuracy_score(y_true, y_pred)\n",
        "prec = precision_score(y_true, y_pred)\n",
        "rec = recall_score(y_true, y_pred)\n",
        "f1 = f1_score(y_true, y_pred)\n",
        "tn, fp, fn, tp = confusion_matrix(y_true, y_pred).ravel()\n",
        "\n",
        "print(\"\\n GPT Classification with Embedding-Augmented Prompting (RAG):\")\n",
        "print(f\"Accuracy       : {acc:.2%}\")\n",
        "print(f\"Precision      : {prec:.2%}\")\n",
        "print(f\"Recall         : {rec:.2%}\")\n",
        "print(f\"F1 Score       : {f1:.2%}\")\n",
        "print(f\"Confusion Matrix: TP={tp}, FP={fp}, FN={fn}, TN={tn}\")"
      ],
      "metadata": {
        "colab": {
          "base_uri": "https://localhost:8080/"
        },
        "id": "qphABjiFQhuE",
        "outputId": "4ec932dd-39cb-4aea-ee94-f04989f96658"
      },
      "execution_count": null,
      "outputs": [
        {
          "output_type": "stream",
          "name": "stdout",
          "text": [
            "\n",
            " GPT Classification with Embedding-Augmented Prompting (RAG):\n",
            "Accuracy       : 60.00%\n",
            "Precision      : 66.67%\n",
            "Recall         : 40.00%\n",
            "F1 Score       : 50.00%\n",
            "Confusion Matrix: TP=12, FP=6, FN=18, TN=24\n"
          ]
        }
      ]
    }
  ]
}